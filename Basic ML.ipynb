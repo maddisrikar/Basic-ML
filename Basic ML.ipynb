{
  "nbformat": 4,
  "nbformat_minor": 0,
  "metadata": {
    "colab": {
      "name": "Untitled0.ipynb",
      "provenance": [],
      "authorship_tag": "ABX9TyOn6AgNHZBSaB6d9zytSRXe",
      "include_colab_link": true
    },
    "kernelspec": {
      "name": "python3",
      "display_name": "Python 3"
    },
    "language_info": {
      "name": "python"
    }
  },
  "cells": [
    {
      "cell_type": "markdown",
      "metadata": {
        "id": "view-in-github",
        "colab_type": "text"
      },
      "source": [
        "<a href=\"https://colab.research.google.com/github/maddisrikar/Basic-ML/blob/main/Basic%20ML.ipynb\" target=\"_parent\"><img src=\"https://colab.research.google.com/assets/colab-badge.svg\" alt=\"Open In Colab\"/></a>"
      ]
    },
    {
      "cell_type": "code",
      "metadata": {
        "colab": {
          "base_uri": "https://localhost:8080/"
        },
        "id": "2VGinos6jejK",
        "outputId": "37e86805-e1e6-4109-c8d3-6fa56a9c9869"
      },
      "source": [
        "#Fibonacci series \n",
        "n = int(input())\n",
        "if n==0:\n",
        "  print(0)\n",
        "else:\n",
        "  a,b = 0,1\n",
        "  for i in range(2,n+1):\n",
        "    a,b = b,a+b\n",
        "  print(b)    "
      ],
      "execution_count": 9,
      "outputs": [
        {
          "output_type": "stream",
          "text": [
            "6\n",
            "8\n"
          ],
          "name": "stdout"
        }
      ]
    },
    {
      "cell_type": "code",
      "metadata": {
        "colab": {
          "base_uri": "https://localhost:8080/"
        },
        "id": "Rop0Fi40qIhF",
        "outputId": "fe9cf055-26e6-41d0-9aa9-8fc3361bbd83"
      },
      "source": [
        "#Armstrong numbers\n",
        "for i in range(1,100):\n",
        "  length = len(str(i))\n",
        "  string_of_number = str(i)\n",
        "  sumof = 0\n",
        "  for numbers in string_of_number:\n",
        "    sumof +=int(numbers)**length\n",
        "  if sumof ==i:\n",
        "    print(i)"
      ],
      "execution_count": 14,
      "outputs": [
        {
          "output_type": "stream",
          "text": [
            "1\n",
            "2\n",
            "3\n",
            "4\n",
            "5\n",
            "6\n",
            "7\n",
            "8\n",
            "9\n"
          ],
          "name": "stdout"
        }
      ]
    },
    {
      "cell_type": "code",
      "metadata": {
        "colab": {
          "base_uri": "https://localhost:8080/"
        },
        "id": "WEJmcaegqb4Q",
        "outputId": "67cd53bc-1fc3-4470-a165-3281419ad18e"
      },
      "source": [
        "#Triangle\n",
        "n = int(input())\n",
        "for i in range(1,n+1):\n",
        "  spaces = \" \"*(n-i)\n",
        "  print(spaces+\"* \"*i)"
      ],
      "execution_count": 13,
      "outputs": [
        {
          "output_type": "stream",
          "text": [
            "3\n",
            "  * \n",
            " * * \n",
            "* * * \n"
          ],
          "name": "stdout"
        }
      ]
    },
    {
      "cell_type": "code",
      "metadata": {
        "id": "MTxFFM88qIdq"
      },
      "source": [
        ""
      ],
      "execution_count": null,
      "outputs": []
    }
  ]
}